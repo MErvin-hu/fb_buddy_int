{
  "nbformat": 4,
  "nbformat_minor": 0,
  "metadata": {
    "colab": {
      "provenance": [],
      "collapsed_sections": []
    },
    "kernelspec": {
      "name": "python3",
      "display_name": "Python 3"
    },
    "language_info": {
      "name": "python"
    }
  },
  "cells": [
    {
      "cell_type": "markdown",
      "source": [
        "# *FB buddy*\n",
        "- a buddy sorrend kinyerése a profilod html-jéből\n",
        "- a sorend tárolása google drive-odon sqlite3 adatbázisban (először létrehozza, ehhez engedélyezned kell a hozzáférést)\n",
        "- ha korábbi file-t használsz, akkor a dátumot át kell állítani. Alalpértelmezetten az aktuális dátumot használja.\n",
        "- az utolsó 50 rekord (azaz amit betöltött) megmutatása"
      ],
      "metadata": {
        "id": "C886HOep5bvD"
      }
    },
    {
      "cell_type": "code",
      "source": [
        "from google.colab import drive\n",
        "drive.mount('/content/drive')"
      ],
      "metadata": {
        "id": "M50yZMwk5dYD"
      },
      "execution_count": null,
      "outputs": []
    },
    {
      "cell_type": "code",
      "source": [
        "import pandas as pd\n",
        "from datetime import datetime    \n",
        "import re\n",
        "import sqlite3\n",
        "from ipywidgets import widgets\n",
        "from IPython.display import display\n",
        "\n",
        "conn = sqlite3.connect(r'/content/drive/MyDrive/fb_buddy_v1.db')\n",
        "\n",
        "main_display = widgets.Output()\n",
        "\n",
        "def tablairas(inputs):\n",
        "    input_file = list(upload.value.values())[0]\n",
        "    content = input_file['content'].decode('utf-8')\n",
        "    lista =re.findall('buddy_id(.+?)picture', content) \n",
        "    for i in range(len(lista)):\n",
        "        lista[i] = re.findall('name\\\"\\:\"(.+?)\\\"\\,', lista[i])\n",
        "    df = pd.DataFrame(lista, columns={'name'})\n",
        "    dict_hu = {'u00c1': 'Á','u00e1': 'á','u00f3': 'ó','u00e9': 'é','u0151': 'ő','u00f6': 'ö','u00ed': 'í','u00c9': 'É','u00fa': 'ú','u00fc': 'ü'}\n",
        "    for key in dict_hu.keys():\n",
        "        df['name'] = df['name'].str.replace(key, dict_hu[key])\n",
        "        df['name'] = df['name'].str.replace('\\\\', '', regex=True)\n",
        "    df['rn']=df.index+1\n",
        "    df['date']=datum.value.strftime('%Y.%m.%d')\n",
        "    df.columns =['name', 'rn','date']\n",
        "    df.to_sql('fb_buddy', conn, if_exists='append', index=False)\n",
        "    lbl1.value = 'Betöltve'\n",
        "\n",
        "\n",
        "\n",
        "upload = widgets.FileUpload(\n",
        "    accept='.html',\n",
        "    multiple=False\n",
        ")\n",
        "\n",
        "datum = widgets.DatePicker(\n",
        "    description='Dátum választás',\n",
        "    disabled=False,\n",
        "    value = datetime.today()\n",
        ")\n",
        "\n",
        "lbl1 = widgets.Label('')\n",
        "\n",
        "display(datum, upload, lbl1)\n",
        "upload.observe(tablairas, names='value')"
      ],
      "metadata": {
        "id": "1ikMPsvesVnt"
      },
      "execution_count": null,
      "outputs": []
    },
    {
      "cell_type": "code",
      "source": [
        "conn.commit()"
      ],
      "metadata": {
        "id": "SPHB80n3wLAB"
      },
      "execution_count": 3,
      "outputs": []
    },
    {
      "cell_type": "code",
      "source": [
        "query = \"\"\"SELECT distinct * FROM fb_buddy\"\"\"\n",
        "df = pd.read_sql(query, conn)\n",
        "df.tail(50)"
      ],
      "metadata": {
        "id": "1Qm1RMwKt7uQ"
      },
      "execution_count": null,
      "outputs": []
    },
    {
      "cell_type": "markdown",
      "source": [
        "# *Időbeli változás*"
      ],
      "metadata": {
        "id": "rudxeDNq6bEC"
      }
    },
    {
      "cell_type": "code",
      "source": [
        "df_ido = pd.read_sql(\"select distinct date from fb_buddy\", con=conn)\n",
        "df.sort_values(by=['date'], inplace=True)\n",
        "df_ido.sort_values(by=['date'], inplace=True)\n"
      ],
      "metadata": {
        "id": "g8ZcfrZes_uu"
      },
      "execution_count": 5,
      "outputs": []
    },
    {
      "cell_type": "code",
      "source": [
        "from ipywidgets import interact, interactive, fixed, interact_manual\n",
        "import ipywidgets as widgets\n",
        "import cufflinks as cf\n",
        "cf.go_offline()\n",
        "cf.set_config_file(offline=False, world_readable=True)\n",
        "\n",
        "#df = result\n",
        "\n",
        "@interact\n",
        "def scatter_plot(Név=list(sorted(df['name'].unique()))):\n",
        "        df1 = df[df['name']==Név]\n",
        "        result = pd.merge(df_ido,\n",
        "                 df1[['date', 'name', 'rn']],\n",
        "                 on='date', \n",
        "                 how='left')\n",
        "        df1=result\n",
        "        df1[[\"date\",\"rn\"]].plot(kind='line', x='date', y='rn')\n",
        "        "
      ],
      "metadata": {
        "id": "uscmbP-usRYt"
      },
      "execution_count": null,
      "outputs": []
    },
    {
      "cell_type": "markdown",
      "source": [
        "# *Heatmap*"
      ],
      "metadata": {
        "id": "U2jYfi796ufU"
      }
    },
    {
      "cell_type": "code",
      "source": [
        "import seaborn as sns\n",
        "import matplotlib.pyplot as plt\n",
        "\n",
        "df = pd.read_sql(\"select distinct * from fb_buddy\", con=conn)\n",
        "var1 = df.groupby(['name'])['rn'].agg('count').reset_index(name='counts').sort_values(by=['counts','name'], ascending=False)['counts'].unique()[1] #or [0]\n",
        "\n",
        "df_x = df.groupby(['name']).size().reset_index(name='counts').sort_values(by=['counts'], ascending=False)\n",
        "df1=df[df['name'].isin(df_x[(df_x['counts']==var1)]['name'].to_list())]  \n",
        "heatmap1_data = pd.pivot_table(df1, values='rn', \n",
        "                     index=['name'],\n",
        "                     columns='date')\n",
        "plt.figure(figsize = (15,15))\n",
        "sns.heatmap(heatmap1_data, center=None, cmap=\"RdBu\")"
      ],
      "metadata": {
        "id": "94r33fSatTPz"
      },
      "execution_count": null,
      "outputs": []
    },
    {
      "cell_type": "markdown",
      "source": [
        "# *Korreláció*"
      ],
      "metadata": {
        "id": "2F-BB0VJ6ylk"
      }
    },
    {
      "cell_type": "code",
      "source": [
        "df_x = df.groupby(['name']).size().reset_index(name='counts').sort_values(by=['counts'], ascending=False)\n",
        "df_y = df_x[(df_x['counts']==var1)]\n",
        "list_y = df_y['name'].to_list()\n",
        "list_of_values = list_y\n",
        "df_y = df[df['name'].isin(list_of_values)]\n",
        "table = pd.pivot_table(df_y, values=\"rn\", index=\"date\", columns=\"name\")\n",
        " \n",
        "plt.figure(figsize=(25,25))\n",
        "dataplot=sns.heatmap(table.corr(), annot=True)\n",
        "plt.show()"
      ],
      "metadata": {
        "id": "Zo0kIxHztUCN"
      },
      "execution_count": null,
      "outputs": []
    }
  ]
}